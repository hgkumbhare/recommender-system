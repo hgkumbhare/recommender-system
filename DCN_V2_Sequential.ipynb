{
  "cells": [
    {
      "cell_type": "code",
      "execution_count": 1,
      "id": "initial_id",
      "metadata": {
        "ExecuteTime": {
          "end_time": "2025-04-15T20:41:55.789286Z",
          "start_time": "2025-04-15T20:41:55.336826Z"
        },
        "id": "initial_id"
      },
      "outputs": [],
      "source": [
        "import pandas as pd"
      ]
    },
    {
      "cell_type": "code",
      "source": [
        "!pip install -q tensorflow-recommenders"
      ],
      "metadata": {
        "colab": {
          "base_uri": "https://localhost:8080/"
        },
        "id": "6IupqxEPvYXR",
        "outputId": "681cac24-8b59-42fc-a465-efe6a672031f"
      },
      "id": "6IupqxEPvYXR",
      "execution_count": 8,
      "outputs": [
        {
          "output_type": "stream",
          "name": "stdout",
          "text": [
            "\u001b[?25l   \u001b[90m━━━━━━━━━━━━━━━━━━━━━━━━━━━━━━━━━━━━━━━━\u001b[0m \u001b[32m0.0/96.2 kB\u001b[0m \u001b[31m?\u001b[0m eta \u001b[36m-:--:--\u001b[0m\r\u001b[2K   \u001b[91m━━━━━━━━━━━━━━━━━━━━━━━━━━━━━━━━━━━━━━\u001b[0m\u001b[90m╺\u001b[0m\u001b[90m━\u001b[0m \u001b[32m92.2/96.2 kB\u001b[0m \u001b[31m3.2 MB/s\u001b[0m eta \u001b[36m0:00:01\u001b[0m\r\u001b[2K   \u001b[90m━━━━━━━━━━━━━━━━━━━━━━━━━━━━━━━━━━━━━━━━\u001b[0m \u001b[32m96.2/96.2 kB\u001b[0m \u001b[31m2.1 MB/s\u001b[0m eta \u001b[36m0:00:00\u001b[0m\n",
            "\u001b[?25h"
          ]
        }
      ]
    },
    {
      "cell_type": "markdown",
      "id": "1ffcd25722b49840",
      "metadata": {
        "collapsed": false,
        "jupyter": {
          "outputs_hidden": false
        },
        "id": "1ffcd25722b49840"
      },
      "source": [
        "# Import Data / Transform into Dataframes"
      ]
    },
    {
      "cell_type": "code",
      "source": [
        "# Needed you you are running in colab and want to read from google drive.\n",
        "\n",
        "from google.colab import drive\n",
        "drive.mount(\"/content/drive\")\n",
        "\n",
        "%cd '/content/drive/MyDrive/gatech_coursework/deep_learning_final_project/recommender-system-main'"
      ],
      "metadata": {
        "colab": {
          "base_uri": "https://localhost:8080/"
        },
        "id": "2_v-Gv-BcJzc",
        "outputId": "c29c30ad-9dd1-41fd-8c9e-5a2950b14afc"
      },
      "id": "2_v-Gv-BcJzc",
      "execution_count": 2,
      "outputs": [
        {
          "output_type": "stream",
          "name": "stdout",
          "text": [
            "Mounted at /content/drive\n",
            "/content/drive/MyDrive/gatech_coursework/deep_learning_final_project/recommender-system-main\n"
          ]
        }
      ]
    },
    {
      "cell_type": "code",
      "source": [
        "# Data pre processing.\n",
        "\n",
        "df_loaded = pd.read_csv('data/processed_data.dat')\n",
        "df_loaded.head()\n",
        "\n",
        "df_loaded.columns\n",
        "\n",
        "df_short = df_loaded[['rating', 'occupation', 'age_group_child', 'age_group_teen', 'age_group_adult', 'age_group_senior', 'gender_F', 'gender_M', 'Action', 'Adventure', 'Animation', 'Children\\'s', 'Comedy', 'Crime', 'Documentary', 'Drama', 'Fantasy', 'Film-Noir', 'Horror', 'Musical', 'Mystery', 'Romance', 'Sci-Fi', 'Thriller', 'War', 'Western']]\n",
        "\n",
        "df_short.head()\n",
        "\n",
        "# distinct_elements = pd.unique(df_short.values.ravel())\n",
        "# print(distinct_elements)\n",
        "\n",
        "\n",
        "# df_sampled = df_short.sample(n=100000, random_state=42).astype(np.float32)\n",
        "# y = df_sampled[['rating']].values.flatten()\n",
        "# np.unique(y, return_counts=True)"
      ],
      "metadata": {
        "colab": {
          "base_uri": "https://localhost:8080/"
        },
        "id": "ZihAj0JzcNWH",
        "outputId": "736755fc-a52b-4dae-aeee-db70308f2c3d"
      },
      "id": "ZihAj0JzcNWH",
      "execution_count": 27,
      "outputs": [
        {
          "output_type": "execute_result",
          "data": {
            "text/plain": [
              "(array([0., 1.], dtype=float32), array([22217, 77783]))"
            ]
          },
          "metadata": {},
          "execution_count": 27
        }
      ]
    },
    {
      "cell_type": "code",
      "source": [
        "\n",
        "import tensorflow as tf\n",
        "from tensorflow.keras import layers, Model\n",
        "import tensorflow_recommenders as tfrs\n",
        "import numpy as np\n",
        "from sklearn.model_selection import train_test_split\n",
        "from sklearn.metrics import roc_auc_score\n",
        "\n",
        "# Simulate some input data\n",
        "def GetData(n_samples, input_dim):\n",
        "    df_sampled = df_short.sample(n=n_samples, random_state=42).astype(np.float32)\n",
        "    X = df_sampled.loc[:, df_sampled.columns != 'rating'].values\n",
        "    y = df_sampled[['rating']].values.flatten()\n",
        "    return X, y\n",
        "\n",
        "\n",
        "# DCN-V2 Full Model\n",
        "class DCNV2Model(Model):\n",
        "    def __init__(self, input_dim, projection_dim=64, num_cross_layers=3, dnn_units=[256, 128]):\n",
        "        super(DCNV2Model, self).__init__()\n",
        "        self.embedding_layer = tf.keras.layers.Embedding(input_dim, projection_dim)\n",
        "        self.cross_layers = tf.keras.Sequential()\n",
        "        for _ in range(num_cross_layers):\n",
        "          self.cross_layers.add(tfrs.layers.dcn.Cross(projection_dim=projection_dim, kernel_initializer=\"glorot_uniform\"))\n",
        "        self.dnn = tf.keras.Sequential()\n",
        "        for units in dnn_units:\n",
        "            self.dnn.add(layers.Dense(units, activation='relu'))\n",
        "        self.final_dense = layers.Dense(1, activation='sigmoid')  # For binary classification\n",
        "\n",
        "    def call(self, inputs):\n",
        "        print(\"inputs.shape\", inputs.shape)\n",
        "        embed = self.embedding_layer(inputs)\n",
        "        cross_out = self.cross_layers(embed)\n",
        "        dnn_out = self.dnn(inputs)\n",
        "        output = self.final_dense(dnn_out)\n",
        "        return output\n",
        "\n",
        "# Get data\n",
        "# input_dim = 32\n",
        "input_dim = 25\n",
        "X, y = GetData(n_samples=100000, input_dim=input_dim)\n",
        "X_train, X_test, y_train, y_test = train_test_split(X, y, test_size=0.2)\n",
        "\n",
        "# Create the model\n",
        "model = DCNV2Model(input_dim=input_dim, projection_dim=16, num_cross_layers=3)\n",
        "model.compile(optimizer='adam', loss='binary_crossentropy', metrics=['AUC', 'Accuracy'])\n",
        "\n",
        "# Train the model\n",
        "model.fit(X_train, y_train, validation_split=0.1, epochs=10, batch_size=128)\n",
        "\n",
        "# Evaluate the model\n",
        "y_pred = model.predict(X_test)\n",
        "print(\"Test ROC AUC:\", roc_auc_score(y_test, y_pred))\n"
      ],
      "metadata": {
        "colab": {
          "base_uri": "https://localhost:8080/"
        },
        "id": "LCUhxwOQsrlh",
        "outputId": "28d83b0f-9334-48c3-8471-9e40b69ec4a7"
      },
      "id": "LCUhxwOQsrlh",
      "execution_count": 25,
      "outputs": [
        {
          "output_type": "stream",
          "name": "stdout",
          "text": [
            "Epoch 1/10\n",
            "inputs.shape (None, 25)\n",
            "inputs.shape (None, 25)\n"
          ]
        },
        {
          "output_type": "stream",
          "name": "stderr",
          "text": [
            "/usr/local/lib/python3.11/dist-packages/keras/src/optimizers/base_optimizer.py:774: UserWarning: Gradients do not exist for variables ['dcnv2_model_18/embedding_14/embeddings', 'dcnv2_model_18/sequential_14/cross_33/dense_66/kernel', 'dcnv2_model_18/sequential_14/cross_33/dense_67/kernel', 'dcnv2_model_18/sequential_14/cross_33/dense_67/bias', 'dcnv2_model_18/sequential_14/cross_34/dense_68/kernel', 'dcnv2_model_18/sequential_14/cross_34/dense_69/kernel', 'dcnv2_model_18/sequential_14/cross_34/dense_69/bias', 'dcnv2_model_18/sequential_14/cross_35/dense_70/kernel', 'dcnv2_model_18/sequential_14/cross_35/dense_71/kernel', 'dcnv2_model_18/sequential_14/cross_35/dense_71/bias'] when minimizing the loss. If using `model.compile()`, did you forget to provide a `loss` argument?\n",
            "  warnings.warn(\n"
          ]
        },
        {
          "output_type": "stream",
          "name": "stdout",
          "text": [
            "inputs.shape (None, 25)\n",
            "\u001b[1m560/563\u001b[0m \u001b[32m━━━━━━━━━━━━━━━━━━━\u001b[0m\u001b[37m━\u001b[0m \u001b[1m0s\u001b[0m 6ms/step - AUC: 0.6010 - Accuracy: 0.7775 - loss: 0.5212inputs.shape (None, 25)\n",
            "\u001b[1m563/563\u001b[0m \u001b[32m━━━━━━━━━━━━━━━━━━━━\u001b[0m\u001b[37m\u001b[0m \u001b[1m7s\u001b[0m 7ms/step - AUC: 0.6011 - Accuracy: 0.7775 - loss: 0.5212 - val_AUC: 0.6451 - val_Accuracy: 0.7769 - val_loss: 0.5136\n",
            "Epoch 2/10\n",
            "\u001b[1m563/563\u001b[0m \u001b[32m━━━━━━━━━━━━━━━━━━━━\u001b[0m\u001b[37m\u001b[0m \u001b[1m3s\u001b[0m 4ms/step - AUC: 0.6394 - Accuracy: 0.7797 - loss: 0.5067 - val_AUC: 0.6550 - val_Accuracy: 0.7759 - val_loss: 0.5063\n",
            "Epoch 3/10\n",
            "\u001b[1m563/563\u001b[0m \u001b[32m━━━━━━━━━━━━━━━━━━━━\u001b[0m\u001b[37m\u001b[0m \u001b[1m2s\u001b[0m 4ms/step - AUC: 0.6490 - Accuracy: 0.7786 - loss: 0.5058 - val_AUC: 0.6662 - val_Accuracy: 0.7766 - val_loss: 0.5040\n",
            "Epoch 4/10\n",
            "\u001b[1m563/563\u001b[0m \u001b[32m━━━━━━━━━━━━━━━━━━━━\u001b[0m\u001b[37m\u001b[0m \u001b[1m3s\u001b[0m 4ms/step - AUC: 0.6619 - Accuracy: 0.7798 - loss: 0.5001 - val_AUC: 0.6659 - val_Accuracy: 0.7776 - val_loss: 0.5048\n",
            "Epoch 5/10\n",
            "\u001b[1m563/563\u001b[0m \u001b[32m━━━━━━━━━━━━━━━━━━━━\u001b[0m\u001b[37m\u001b[0m \u001b[1m3s\u001b[0m 6ms/step - AUC: 0.6662 - Accuracy: 0.7827 - loss: 0.4942 - val_AUC: 0.6668 - val_Accuracy: 0.7780 - val_loss: 0.5017\n",
            "Epoch 6/10\n",
            "\u001b[1m563/563\u001b[0m \u001b[32m━━━━━━━━━━━━━━━━━━━━\u001b[0m\u001b[37m\u001b[0m \u001b[1m3s\u001b[0m 5ms/step - AUC: 0.6658 - Accuracy: 0.7826 - loss: 0.4943 - val_AUC: 0.6671 - val_Accuracy: 0.7770 - val_loss: 0.5016\n",
            "Epoch 7/10\n",
            "\u001b[1m563/563\u001b[0m \u001b[32m━━━━━━━━━━━━━━━━━━━━\u001b[0m\u001b[37m\u001b[0m \u001b[1m2s\u001b[0m 4ms/step - AUC: 0.6741 - Accuracy: 0.7815 - loss: 0.4948 - val_AUC: 0.6677 - val_Accuracy: 0.7782 - val_loss: 0.5004\n",
            "Epoch 8/10\n",
            "\u001b[1m563/563\u001b[0m \u001b[32m━━━━━━━━━━━━━━━━━━━━\u001b[0m\u001b[37m\u001b[0m \u001b[1m3s\u001b[0m 4ms/step - AUC: 0.6724 - Accuracy: 0.7796 - loss: 0.4954 - val_AUC: 0.6708 - val_Accuracy: 0.7806 - val_loss: 0.4992\n",
            "Epoch 9/10\n",
            "\u001b[1m563/563\u001b[0m \u001b[32m━━━━━━━━━━━━━━━━━━━━\u001b[0m\u001b[37m\u001b[0m \u001b[1m2s\u001b[0m 4ms/step - AUC: 0.6790 - Accuracy: 0.7825 - loss: 0.4904 - val_AUC: 0.6711 - val_Accuracy: 0.7786 - val_loss: 0.4997\n",
            "Epoch 10/10\n",
            "\u001b[1m563/563\u001b[0m \u001b[32m━━━━━━━━━━━━━━━━━━━━\u001b[0m\u001b[37m\u001b[0m \u001b[1m3s\u001b[0m 6ms/step - AUC: 0.6819 - Accuracy: 0.7836 - loss: 0.4901 - val_AUC: 0.6736 - val_Accuracy: 0.7800 - val_loss: 0.4985\n",
            "inputs.shape (32, 25)\n",
            "\u001b[1m625/625\u001b[0m \u001b[32m━━━━━━━━━━━━━━━━━━━━\u001b[0m\u001b[37m\u001b[0m \u001b[1m1s\u001b[0m 2ms/step\n",
            "Test ROC AUC: 0.672344885975059\n"
          ]
        }
      ]
    }
  ],
  "metadata": {
    "kernelspec": {
      "display_name": "Python 3 (ipykernel)",
      "language": "python",
      "name": "python3"
    },
    "language_info": {
      "codemirror_mode": {
        "name": "ipython",
        "version": 3
      },
      "file_extension": ".py",
      "mimetype": "text/x-python",
      "name": "python",
      "nbconvert_exporter": "python",
      "pygments_lexer": "ipython3",
      "version": "3.11.11"
    },
    "colab": {
      "provenance": []
    }
  },
  "nbformat": 4,
  "nbformat_minor": 5
}